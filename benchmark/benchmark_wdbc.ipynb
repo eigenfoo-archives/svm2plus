{
 "cells": [
  {
   "cell_type": "markdown",
   "metadata": {},
   "source": [
    "# Benchmarking against the Wisconsin Diagnostic Breast Cancer (WDBC) Dataset"
   ]
  },
  {
   "cell_type": "code",
   "execution_count": 1,
   "metadata": {},
   "outputs": [],
   "source": [
    "import os\n",
    "import sys\n",
    "sys.path.append(os.path.join(os.getcwd(), '../svm2plus/'))\n",
    "import numpy as np\n",
    "import pandas as pd\n",
    "from sklearn.model_selection import train_test_split, GridSearchCV\n",
    "from sklearn.svm import SVC\n",
    "from svm2plus import SVC2Plus\n",
    "from sklearn.datasets import load_breast_cancer\n",
    "from sklearn.metrics import precision_recall_fscore_support, accuracy_score"
   ]
  },
  {
   "cell_type": "code",
   "execution_count": 2,
   "metadata": {},
   "outputs": [],
   "source": [
    "data = load_breast_cancer()\n",
    "X, y = load_breast_cancer(return_X_y=True)"
   ]
  },
  {
   "cell_type": "code",
   "execution_count": 3,
   "metadata": {},
   "outputs": [],
   "source": [
    "# Original parameter grid as proposed by Vapnik\n",
    "param_grid_svc = [{'C': np.exp2(np.linspace(-5, 5, 21)),\n",
    "                   'gamma': np.exp2(np.linspace(-6, 6, 25)),\n",
    "                   'kernel': ['rbf']}]\n",
    "\n",
    "# lmbda is a regularization parameter, just like C. So we CV it in the same way.\n",
    "param_grid_svc2p = [{'C': np.exp2(np.linspace(-5, 5, 21)),\n",
    "                     'lmbda': np.exp2(np.linspace(-5, 5, 21)),\n",
    "                     'gamma': np.exp2(np.linspace(-6, 6, 25)),\n",
    "                     'decision_kernel': ['rbf'],\n",
    "                     'correcting_kernel': ['rbf']}]"
   ]
  },
  {
   "cell_type": "markdown",
   "metadata": {},
   "source": [
    "## Privileged Features = `mean`"
   ]
  },
  {
   "cell_type": "code",
   "execution_count": 4,
   "metadata": {},
   "outputs": [],
   "source": [
    "X_train, X_test, y_train, y_test = train_test_split(X, y, test_size=0.3, random_state=1618)\n",
    "\n",
    "Z_train = X_train[:, :10]\n",
    "X_train = X_train[:, 10:]\n",
    "X_test = X_test[:, 10:]"
   ]
  },
  {
   "cell_type": "code",
   "execution_count": 5,
   "metadata": {
    "scrolled": true
   },
   "outputs": [
    {
     "data": {
      "text/plain": [
       "(array([0.90625   , 0.89719626]),\n",
       " array([0.84057971, 0.94117647]),\n",
       " array([0.87218045, 0.91866029]),\n",
       " array([ 69, 102]))"
      ]
     },
     "execution_count": 5,
     "metadata": {},
     "output_type": "execute_result"
    }
   ],
   "source": [
    "# Train SVC with grid searching\n",
    "svc = GridSearchCV(SVC(), param_grid_svc, scoring='accuracy', return_train_score=True)\n",
    "svc.fit(X_train, y_train);\n",
    "precision_recall_fscore_support(y_test, svc.predict(X_test))"
   ]
  },
  {
   "cell_type": "code",
   "execution_count": 6,
   "metadata": {
    "scrolled": false
   },
   "outputs": [
    {
     "data": {
      "text/plain": [
       "0.9005847953216374"
      ]
     },
     "execution_count": 6,
     "metadata": {},
     "output_type": "execute_result"
    }
   ],
   "source": [
    "accuracy_score(y_test, svc.predict(X_test))"
   ]
  },
  {
   "cell_type": "code",
   "execution_count": 7,
   "metadata": {
    "scrolled": true
   },
   "outputs": [
    {
     "data": {
      "text/plain": [
       "(array([0.89393939, 0.9047619 ]),\n",
       " array([0.85507246, 0.93137255]),\n",
       " array([0.87407407, 0.9178744 ]),\n",
       " array([ 69, 102]))"
      ]
     },
     "execution_count": 7,
     "metadata": {},
     "output_type": "execute_result"
    }
   ],
   "source": [
    "# Train SVC2+ with grid searching\n",
    "svc2p = GridSearchCV(SVC2Plus(), param_grid_svc2p, scoring='accuracy', return_train_score=True)\n",
    "svc2p.fit(X=X_train, y=y_train, Z=Z_train)\n",
    "\n",
    "preds = svc2p.predict(X_test)\n",
    "precision_recall_fscore_support(y_test, preds)"
   ]
  },
  {
   "cell_type": "code",
   "execution_count": 8,
   "metadata": {
    "scrolled": false
   },
   "outputs": [
    {
     "data": {
      "text/plain": [
       "0.9005847953216374"
      ]
     },
     "execution_count": 8,
     "metadata": {},
     "output_type": "execute_result"
    }
   ],
   "source": [
    "accuracy_score(y_test, preds)"
   ]
  },
  {
   "cell_type": "markdown",
   "metadata": {},
   "source": [
    "## Privileged Features = `standard error`"
   ]
  },
  {
   "cell_type": "code",
   "execution_count": 11,
   "metadata": {},
   "outputs": [],
   "source": [
    "X_train, X_test, y_train, y_test = train_test_split(X, y, test_size=0.3, random_state=1618)\n",
    "\n",
    "Z_train = X_train[:, 10:20]\n",
    "X_train = np.hstack([X_train[:, :10], X_train[:, 20:]])\n",
    "X_test = np.hstack([X_test[:, :10], X_test[:, 20:]])"
   ]
  },
  {
   "cell_type": "code",
   "execution_count": 12,
   "metadata": {
    "scrolled": true
   },
   "outputs": [
    {
     "name": "stderr",
     "output_type": "stream",
     "text": [
      "/Users/george/anaconda/lib/python3.6/site-packages/sklearn/metrics/classification.py:1135: UndefinedMetricWarning: Precision and F-score are ill-defined and being set to 0.0 in labels with no predicted samples.\n",
      "  'precision', 'predicted', average, warn_for)\n"
     ]
    },
    {
     "data": {
      "text/plain": [
       "(array([0.        , 0.59649123]),\n",
       " array([0., 1.]),\n",
       " array([0.        , 0.74725275]),\n",
       " array([ 69, 102]))"
      ]
     },
     "execution_count": 12,
     "metadata": {},
     "output_type": "execute_result"
    }
   ],
   "source": [
    "# Train SVC with grid searching\n",
    "svc = GridSearchCV(SVC(), param_grid_svc, scoring='accuracy', return_train_score=True)\n",
    "svc.fit(X_train, y_train);\n",
    "precision_recall_fscore_support(y_test, svc.predict(X_test))"
   ]
  },
  {
   "cell_type": "code",
   "execution_count": 13,
   "metadata": {
    "scrolled": true
   },
   "outputs": [
    {
     "data": {
      "text/plain": [
       "0.5964912280701754"
      ]
     },
     "execution_count": 13,
     "metadata": {},
     "output_type": "execute_result"
    }
   ],
   "source": [
    "accuracy_score(y_test, svc.predict(X_test))"
   ]
  },
  {
   "cell_type": "code",
   "execution_count": 14,
   "metadata": {
    "scrolled": true
   },
   "outputs": [
    {
     "data": {
      "text/plain": [
       "(array([1.       , 0.6035503]),\n",
       " array([0.02898551, 1.        ]),\n",
       " array([0.05633803, 0.75276753]),\n",
       " array([ 69, 102]))"
      ]
     },
     "execution_count": 14,
     "metadata": {},
     "output_type": "execute_result"
    }
   ],
   "source": [
    "# Train SVC2+ with grid searching\n",
    "svc2p = GridSearchCV(SVC2Plus(), param_grid_svc2p, scoring='accuracy', return_train_score=True)\n",
    "svc2p.fit(X=X_train, y=y_train, Z=Z_train)\n",
    "\n",
    "preds = svc2p.predict(X_test)\n",
    "precision_recall_fscore_support(y_test, preds)"
   ]
  },
  {
   "cell_type": "code",
   "execution_count": 15,
   "metadata": {
    "scrolled": true
   },
   "outputs": [
    {
     "data": {
      "text/plain": [
       "0.6081871345029239"
      ]
     },
     "execution_count": 15,
     "metadata": {},
     "output_type": "execute_result"
    }
   ],
   "source": [
    "accuracy_score(y_test, preds)"
   ]
  },
  {
   "cell_type": "markdown",
   "metadata": {},
   "source": [
    "## Privileged Features = `worst`"
   ]
  },
  {
   "cell_type": "code",
   "execution_count": 18,
   "metadata": {},
   "outputs": [],
   "source": [
    "X_train, X_test, y_train, y_test = train_test_split(X, y, test_size=0.3, random_state=1618)\n",
    "\n",
    "Z_train = X_train[:, 20:]\n",
    "X_train = X_train[:, :20]\n",
    "X_test = X_test[:, :20]"
   ]
  },
  {
   "cell_type": "code",
   "execution_count": 19,
   "metadata": {
    "scrolled": false
   },
   "outputs": [
    {
     "data": {
      "text/plain": [
       "(array([0.88709677, 0.87155963]),\n",
       " array([0.79710145, 0.93137255]),\n",
       " array([0.83969466, 0.90047393]),\n",
       " array([ 69, 102]))"
      ]
     },
     "execution_count": 19,
     "metadata": {},
     "output_type": "execute_result"
    }
   ],
   "source": [
    "# Train SVC with grid searching\n",
    "svc = GridSearchCV(SVC(), param_grid_svc, scoring='accuracy', return_train_score=True)\n",
    "svc.fit(X_train, y_train);\n",
    "precision_recall_fscore_support(y_test, svc.predict(X_test))"
   ]
  },
  {
   "cell_type": "code",
   "execution_count": 20,
   "metadata": {},
   "outputs": [
    {
     "data": {
      "text/plain": [
       "0.8771929824561403"
      ]
     },
     "execution_count": 20,
     "metadata": {},
     "output_type": "execute_result"
    }
   ],
   "source": [
    "accuracy_score(y_test, svc.predict(X_test))"
   ]
  },
  {
   "cell_type": "code",
   "execution_count": 27,
   "metadata": {
    "scrolled": false
   },
   "outputs": [
    {
     "data": {
      "text/plain": [
       "(array([0.8852459 , 0.86363636]),\n",
       " array([0.7826087 , 0.93137255]),\n",
       " array([0.83076923, 0.89622642]),\n",
       " array([ 69, 102]))"
      ]
     },
     "execution_count": 27,
     "metadata": {},
     "output_type": "execute_result"
    }
   ],
   "source": [
    "# Train SVC2+ with grid searching\n",
    "svc2p = GridSearchCV(SVC2Plus(), param_grid_svc2p, scoring='accuracy', return_train_score=True)\n",
    "svc2p.fit(X=X_train, y=y_train, Z=Z_train)\n",
    "\n",
    "preds = svc2p.predict(X_test)\n",
    "precision_recall_fscore_support(y_test, preds)"
   ]
  },
  {
   "cell_type": "code",
   "execution_count": 28,
   "metadata": {
    "scrolled": false
   },
   "outputs": [
    {
     "data": {
      "text/plain": [
       "0.8713450292397661"
      ]
     },
     "execution_count": 28,
     "metadata": {},
     "output_type": "execute_result"
    }
   ],
   "source": [
    "accuracy_score(y_test, preds)"
   ]
  },
  {
   "cell_type": "code",
   "execution_count": null,
   "metadata": {},
   "outputs": [],
   "source": []
  }
 ],
 "metadata": {
  "kernelspec": {
   "display_name": "Python 3",
   "language": "python",
   "name": "python3"
  },
  "language_info": {
   "codemirror_mode": {
    "name": "ipython",
    "version": 3
   },
   "file_extension": ".py",
   "mimetype": "text/x-python",
   "name": "python",
   "nbconvert_exporter": "python",
   "pygments_lexer": "ipython3",
   "version": "3.6.2"
  },
  "widgets": {
   "application/vnd.jupyter.widget-state+json": {
    "state": {},
    "version_major": 2,
    "version_minor": 0
   }
  }
 },
 "nbformat": 4,
 "nbformat_minor": 2
}
