{
 "cells": [
  {
   "cell_type": "markdown",
   "metadata": {},
   "source": [
    "# Benchmarking SVM2+ Against Parkinson's Dataset\n",
    "\n",
    "Data from http://www.maxlittle.net/publications/TBME-00342-HTML.html#_Toc237118870"
   ]
  },
  {
   "cell_type": "code",
   "execution_count": 1,
   "metadata": {},
   "outputs": [],
   "source": [
    "import os\n",
    "import sys\n",
    "sys.path.append(os.path.join(os.getcwd(), '../svm2plus/'))\n",
    "import numpy as np\n",
    "import pandas as pd\n",
    "from sklearn.model_selection import train_test_split, GridSearchCV\n",
    "from sklearn.svm import SVC\n",
    "from svm2plus import SVC2Plus\n",
    "from sklearn.datasets import load_breast_cancer\n",
    "from sklearn.metrics import precision_recall_fscore_support, accuracy_score"
   ]
  },
  {
   "cell_type": "code",
   "execution_count": 2,
   "metadata": {},
   "outputs": [],
   "source": [
    "# Original parameter grid as proposed by Vapnik\n",
    "param_grid_svc = [{'C': np.exp2(np.linspace(-5, 5, 21)),\n",
    "                   'gamma': np.exp2(np.linspace(-6, 6, 25)),\n",
    "                   'kernel': ['rbf']}]\n",
    "\n",
    "# lmbda is a regularization parameter, just like C. So we CV it in the same way.\n",
    "param_grid_svc2p = [{'C': np.exp2(np.linspace(-5, 5, 21)),\n",
    "                     'lmbda': np.exp2(np.linspace(-5, 5, 21)),\n",
    "                     'gamma': np.exp2(np.linspace(-6, 6, 25)),\n",
    "                     'decision_kernel': ['rbf'],\n",
    "                     'correcting_kernel': ['rbf']}]"
   ]
  },
  {
   "cell_type": "code",
   "execution_count": 3,
   "metadata": {},
   "outputs": [],
   "source": [
    "data = pd.read_csv('../data/parksinsons/parkinsons.csv')\n",
    "\n",
    "privileged_features = ['DFA', 'spread1', 'spread2', 'D2', 'PPE']\n",
    "\n",
    "X = data.drop(['name', 'status'], axis='columns')\n",
    "y = data.loc[:, 'status']\n",
    "\n",
    "X_train, X_test, y_train, y_test = train_test_split(X, y, test_size=0.3, random_state=1618)\n",
    "\n",
    "Z_train = X_train.loc[:, privileged_features]\n",
    "Z_test = X_test.loc[:, privileged_features]\n",
    "X.drop(privileged_features, axis='columns', inplace=True)"
   ]
  },
  {
   "cell_type": "markdown",
   "metadata": {},
   "source": [
    "## SVC"
   ]
  },
  {
   "cell_type": "code",
   "execution_count": 6,
   "metadata": {},
   "outputs": [
    {
     "data": {
      "text/plain": [
       "(array([0.83333333, 0.75471698]),\n",
       " array([0.27777778, 0.97560976]),\n",
       " array([0.41666667, 0.85106383]),\n",
       " array([18, 41]))"
      ]
     },
     "execution_count": 6,
     "metadata": {},
     "output_type": "execute_result"
    }
   ],
   "source": [
    "svc = GridSearchCV(SVC(class_weight='balanced'), param_grid_svc, scoring='accuracy', return_train_score=True)\n",
    "svc.fit(X_train, y_train);\n",
    "precision_recall_fscore_support(y_test, svc.predict(X_test))"
   ]
  },
  {
   "cell_type": "code",
   "execution_count": 7,
   "metadata": {},
   "outputs": [
    {
     "data": {
      "text/plain": [
       "0.7627118644067796"
      ]
     },
     "execution_count": 7,
     "metadata": {},
     "output_type": "execute_result"
    }
   ],
   "source": [
    "accuracy_score(y_test, svc.predict(X_test))"
   ]
  },
  {
   "cell_type": "markdown",
   "metadata": {},
   "source": [
    "## SVC2+"
   ]
  },
  {
   "cell_type": "code",
   "execution_count": 8,
   "metadata": {},
   "outputs": [
    {
     "data": {
      "text/plain": [
       "(array([0.85714286, 0.76923077]),\n",
       " array([0.33333333, 0.97560976]),\n",
       " array([0.48      , 0.86021505]),\n",
       " array([18, 41]))"
      ]
     },
     "execution_count": 8,
     "metadata": {},
     "output_type": "execute_result"
    }
   ],
   "source": [
    "# Train SVC2+ with grid searching\n",
    "svc2p = GridSearchCV(SVC2Plus(class_weight='balanced'), param_grid_svc2p, scoring='accuracy', return_train_score=True)\n",
    "svc2p.fit(X=X_train.values, y=y_train, Z=Z_train.values)\n",
    "\n",
    "preds = svc2p.predict(X_test.values)\n",
    "precision_recall_fscore_support(y_test, preds)"
   ]
  },
  {
   "cell_type": "code",
   "execution_count": 9,
   "metadata": {},
   "outputs": [
    {
     "data": {
      "text/plain": [
       "0.7796610169491526"
      ]
     },
     "execution_count": 9,
     "metadata": {},
     "output_type": "execute_result"
    }
   ],
   "source": [
    "accuracy_score(y_test, preds)"
   ]
  },
  {
   "cell_type": "code",
   "execution_count": null,
   "metadata": {},
   "outputs": [],
   "source": []
  }
 ],
 "metadata": {
  "kernelspec": {
   "display_name": "Python 3",
   "language": "python",
   "name": "python3"
  },
  "language_info": {
   "codemirror_mode": {
    "name": "ipython",
    "version": 3
   },
   "file_extension": ".py",
   "mimetype": "text/x-python",
   "name": "python",
   "nbconvert_exporter": "python",
   "pygments_lexer": "ipython3",
   "version": "3.6.2"
  }
 },
 "nbformat": 4,
 "nbformat_minor": 2
}
